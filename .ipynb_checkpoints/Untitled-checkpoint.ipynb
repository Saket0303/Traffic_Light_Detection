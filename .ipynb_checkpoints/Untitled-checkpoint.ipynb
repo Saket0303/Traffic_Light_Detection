{
 "cells": [
  {
   "cell_type": "code",
   "execution_count": 1,
   "id": "9c7af2ca",
   "metadata": {},
   "outputs": [],
   "source": [
    "import cv2\n",
    "import numpy as np"
   ]
  },
  {
   "cell_type": "code",
   "execution_count": 17,
   "id": "93b72e5e",
   "metadata": {},
   "outputs": [],
   "source": [
    "img = cv2.imread('test1.jpeg')"
   ]
  },
  {
   "cell_type": "code",
   "execution_count": 3,
   "id": "9c5bf568",
   "metadata": {},
   "outputs": [],
   "source": [
    "cv2.imshow('img',img)\n",
    "cv2.waitKey(0)\n",
    "cv2.destroyAllWindows()"
   ]
  },
  {
   "cell_type": "code",
   "execution_count": 12,
   "id": "a1fe499a",
   "metadata": {},
   "outputs": [],
   "source": [
    "gray = cv2.cvtColor(img,cv2.COLOR_BGR2GRAY)"
   ]
  },
  {
   "cell_type": "code",
   "execution_count": 13,
   "id": "4d03c3ff",
   "metadata": {},
   "outputs": [],
   "source": [
    "cv2.imshow('img',gray)\n",
    "cv2.waitKey(0)\n",
    "cv2.destroyAllWindows()"
   ]
  },
  {
   "cell_type": "code",
   "execution_count": 9,
   "id": "f163b416",
   "metadata": {},
   "outputs": [],
   "source": [
    "_ , thresh_binary = cv2.threshold(gray,120,255,cv2.THRESH_BINARY)"
   ]
  },
  {
   "cell_type": "code",
   "execution_count": 10,
   "id": "8e876d81",
   "metadata": {},
   "outputs": [],
   "source": [
    "cv2.imshow('img',thresh_binary)\n",
    "cv2.waitKey(0)\n",
    "cv2.destroyAllWindows()"
   ]
  },
  {
   "cell_type": "code",
   "execution_count": 3,
   "id": "9fa0cc24",
   "metadata": {},
   "outputs": [],
   "source": [
    "blue_box = cv2.inRange(img,np.array([254,0,0]),np.array([255,0,0]))"
   ]
  },
  {
   "cell_type": "code",
   "execution_count": 5,
   "id": "31b95f07",
   "metadata": {},
   "outputs": [],
   "source": [
    "cv2.imshow('img',blue_box)\n",
    "cv2.waitKey(0)\n",
    "cv2.destroyAllWindows()"
   ]
  },
  {
   "cell_type": "code",
   "execution_count": 27,
   "id": "e3d5d850",
   "metadata": {},
   "outputs": [],
   "source": [
    "_ , thresh_blue = cv2.threshold(blue_box,230,255,cv2.THRESH_BINARY)"
   ]
  },
  {
   "cell_type": "code",
   "execution_count": 66,
   "id": "8fa1bc34",
   "metadata": {},
   "outputs": [],
   "source": [
    "cv2.imshow('img',thresh_blue)\n",
    "cv2.waitKey(0)\n",
    "cv2.destroyAllWindows()"
   ]
  },
  {
   "cell_type": "code",
   "execution_count": 4,
   "id": "20a28d08",
   "metadata": {},
   "outputs": [],
   "source": [
    "contours,heirarchy = cv2.findContours(blue_box, cv2.RETR_TREE, cv2.CHAIN_APPROX_SIMPLE)"
   ]
  },
  {
   "cell_type": "code",
   "execution_count": 9,
   "id": "952aabe8",
   "metadata": {},
   "outputs": [
    {
     "data": {
      "text/plain": [
       "51"
      ]
     },
     "execution_count": 9,
     "metadata": {},
     "output_type": "execute_result"
    }
   ],
   "source": [
    "len(contours)"
   ]
  },
  {
   "cell_type": "code",
   "execution_count": 5,
   "id": "d6165ef1",
   "metadata": {},
   "outputs": [],
   "source": [
    "max_contour = max(contours,key = cv2.contourArea)"
   ]
  },
  {
   "cell_type": "code",
   "execution_count": 20,
   "id": "04ef399b",
   "metadata": {},
   "outputs": [],
   "source": [
    "img_contours = cv2.drawContours(img, [max_contour], -1, (100,100,100), 2)"
   ]
  },
  {
   "cell_type": "code",
   "execution_count": null,
   "id": "ef1880eb",
   "metadata": {},
   "outputs": [],
   "source": []
  },
  {
   "cell_type": "code",
   "execution_count": 21,
   "id": "b3bcb5be",
   "metadata": {},
   "outputs": [],
   "source": [
    "cv2.imshow('img',img_contours)\n",
    "cv2.waitKey(0)\n",
    "cv2.destroyAllWindows()"
   ]
  },
  {
   "cell_type": "code",
   "execution_count": 10,
   "id": "a2cd9051",
   "metadata": {},
   "outputs": [],
   "source": [
    "hsv = cv2.cvtColor(img , cv2.COLOR_BGR2HSV)"
   ]
  },
  {
   "cell_type": "code",
   "execution_count": 11,
   "id": "ebc97098",
   "metadata": {},
   "outputs": [],
   "source": [
    "cv2.imshow('img',hsv)\n",
    "cv2.waitKey(0)\n",
    "cv2.destroyAllWindows()"
   ]
  },
  {
   "cell_type": "code",
   "execution_count": null,
   "id": "753959e1",
   "metadata": {},
   "outputs": [],
   "source": []
  },
  {
   "cell_type": "code",
   "execution_count": 7,
   "id": "fcd4596f",
   "metadata": {},
   "outputs": [],
   "source": [
    "for cnt in [max_contour]:\n",
    "    approx = cv2.approxPolyDP(cnt, 0.009 * cv2.arcLength(cnt, True), True)\n",
    "    n = approx.ravel() \n",
    "    i = 0\n",
    "    x_bluebox = []\n",
    "    y_bluebox = []\n",
    "    for j in n :\n",
    "        if(i % 2 == 0):\n",
    "            x_bluebox.append(n[i])\n",
    "            y_bluebox.append(n[i + 1])\n",
    "        i = i + 1"
   ]
  },
  {
   "cell_type": "code",
   "execution_count": 8,
   "id": "eb242517",
   "metadata": {},
   "outputs": [],
   "source": [
    "min_x , max_x = min(x_bluebox) , max(x_bluebox)\n",
    "min_y , max_y = min(y_bluebox) , max(y_bluebox)"
   ]
  },
  {
   "cell_type": "code",
   "execution_count": 9,
   "id": "b7c9d022",
   "metadata": {},
   "outputs": [
    {
     "name": "stdout",
     "output_type": "stream",
     "text": [
      "192 415 192 431\n"
     ]
    }
   ],
   "source": [
    "print(min_x , max_x , min_y , max_y)"
   ]
  },
  {
   "cell_type": "code",
   "execution_count": null,
   "id": "7e92de91",
   "metadata": {},
   "outputs": [],
   "source": [
    "\n",
    "red = cv2.inRange(img_contours , np.array([0,0,100]) , np.array([50,50,255]))\n",
    "yellow = cv2.inRange(img_contours , np.array([0,200,200]) , np.array([0,255,255]))\n",
    "green = cv2.inRange(img_contours , np.array([0,200,0]) , np.array([100,255,100]))\n",
    "cnts_r,_ = cv2.findContours(red,cv2.RETR_TREE,cv2.CHAIN_APPROX_SIMPLE)\n",
    "cnts_y,_ = cv2.findContours(yellow,cv2.RETR_TREE,cv2.CHAIN_APPROX_SIMPLE)\n",
    "cnts_g,_ = cv2.findContours(green,cv2.RETR_TREE,cv2.CHAIN_APPROX_SIMPLE)\n",
    "if len(cnts_r)>0 and len(cnts_g)==0 and len(cnts_y)==0:\n",
    "    print(\"RED\")\n",
    "elif len(cnts_r)==0 and len(cnts_g)>0 and len(cnts_y)==0:\n",
    "    print(\"GREEN\")\n",
    "elif len(cnts_r)==0 and len(cnts_g)==0 and len(cnts_y)>0:\n",
    "    print(\"YELLOW\")\n",
    "else:\n",
    "    print(\"ERROR\")"
   ]
  },
  {
   "cell_type": "code",
   "execution_count": 53,
   "id": "3d9ca33f",
   "metadata": {},
   "outputs": [
    {
     "name": "stdout",
     "output_type": "stream",
     "text": [
      "ERROR\n"
     ]
    }
   ],
   "source": [
    "img = cv2.imread('test6.jpeg')\n",
    "blue_box = cv2.inRange(img,np.array([254,0,0]),np.array([255,0,0]))\n",
    "contours,heirarchy = cv2.findContours(blue_box, cv2.RETR_TREE, cv2.CHAIN_APPROX_SIMPLE)\n",
    "max_contour = max(contours,key = cv2.contourArea)\n",
    "\n",
    "for cnt in [max_contour]:\n",
    "    approx = cv2.approxPolyDP(cnt, 0.009 * cv2.arcLength(cnt, True), True)\n",
    "    n = approx.ravel() \n",
    "    i = 0\n",
    "    x_bluebox = []\n",
    "    y_bluebox = []\n",
    "    for j in n :\n",
    "        if(i % 2 == 0):\n",
    "            x_bluebox.append(n[i])\n",
    "            y_bluebox.append(n[i + 1])\n",
    "        i = i + 1\n",
    "\n",
    "min_x , max_x = min(x_bluebox) , max(x_bluebox)\n",
    "min_y , max_y = min(y_bluebox) , max(y_bluebox)\n",
    "\n",
    "red = cv2.inRange(img , np.array([0,0,100]) , np.array([50,50,255]))\n",
    "cnts_r,_ = cv2.findContours(red,cv2.RETR_TREE,cv2.CHAIN_APPROX_SIMPLE)\n",
    "in_box_r = []\n",
    "for i in cnts_r:\n",
    "    M = cv2.moments(i)\n",
    "    if M['m00'] != 0:\n",
    "        cx = int(M['m10']/M['m00'])\n",
    "        cy = int(M['m01']/M['m00'])\n",
    "        if cx>min_x and cx<max_x:\n",
    "            if cy>min_y and cy<max_y:\n",
    "                in_box_r.append(i)\n",
    "\n",
    "yellow = cv2.inRange(img , np.array([0,230,230]) , np.array([110,255,255]))\n",
    "cnts_y,_ = cv2.findContours(yellow,cv2.RETR_TREE,cv2.CHAIN_APPROX_SIMPLE)\n",
    "in_box_y = []\n",
    "for i in cnts_y:\n",
    "    M = cv2.moments(i)\n",
    "    if M['m00'] != 0:\n",
    "        cx = int(M['m10']/M['m00'])\n",
    "        cy = int(M['m01']/M['m00'])\n",
    "        if cx>min_x and cx<max_x:\n",
    "            if cy>min_y and cy<max_y:\n",
    "                in_box_y.append(i)\n",
    "\n",
    "green = cv2.inRange(img , np.array([0,200,0]) , np.array([100,255,100]))\n",
    "cnts_g,_ = cv2.findContours(green,cv2.RETR_TREE,cv2.CHAIN_APPROX_SIMPLE)\n",
    "in_box_g = []\n",
    "for i in cnts_g:\n",
    "    M = cv2.moments(i)\n",
    "    if M['m00'] != 0:\n",
    "        cx = int(M['m10']/M['m00'])\n",
    "        cy = int(M['m01']/M['m00'])\n",
    "        if cx>min_x and cx<max_x:\n",
    "            if cx>min_y and cy<max_y:\n",
    "                in_box_g.append(i)\n",
    "            \n",
    "if len(in_box_r)==1 and len(in_box_y)==0 and len(in_box_g)==0:\n",
    "    print(\"RED\")\n",
    "elif len(in_box_r)==0 and len(in_box_y)==1 and len(in_box_g)==0:\n",
    "    print(\"YELLOW\")\n",
    "elif len(in_box_r)==0 and len(in_box_y)==0 and len(in_box_g)==1:\n",
    "    print(\"GREEN\")\n",
    "else:\n",
    "    print(\"ERROR\")"
   ]
  },
  {
   "cell_type": "code",
   "execution_count": 15,
   "id": "992568d6",
   "metadata": {},
   "outputs": [],
   "source": [
    "img_contours = cv2.drawContours(img, in_box, -1, (100,100,100), 2)"
   ]
  },
  {
   "cell_type": "code",
   "execution_count": 16,
   "id": "95b01d3b",
   "metadata": {},
   "outputs": [],
   "source": [
    "cv2.imshow('img',img_contours)\n",
    "cv2.waitKey(0)\n",
    "cv2.destroyAllWindows()"
   ]
  },
  {
   "cell_type": "code",
   "execution_count": 9,
   "id": "2dddb0a6",
   "metadata": {},
   "outputs": [],
   "source": [
    "red = cv2.inRange(img , np.array([0,0,100]) , np.array([50,50,255]))"
   ]
  },
  {
   "cell_type": "code",
   "execution_count": 58,
   "id": "6299a10b",
   "metadata": {},
   "outputs": [
    {
     "name": "stdout",
     "output_type": "stream",
     "text": [
      "RED\n"
     ]
    }
   ],
   "source": [
    "for contour in [max_contour]:\n",
    "    if len(cnts_r)>0:\n",
    "        print(\"RED\")"
   ]
  },
  {
   "cell_type": "code",
   "execution_count": 46,
   "id": "dd4c5c37",
   "metadata": {},
   "outputs": [],
   "source": [
    "yellow = cv2.inRange(img , np.array([0,230,230]) , np.array([110,255,255]))\n",
    "cnts_y,_ = cv2.findContours(yellow,cv2.RETR_TREE,cv2.CHAIN_APPROX_SIMPLE)"
   ]
  },
  {
   "cell_type": "code",
   "execution_count": 47,
   "id": "b8a093e2",
   "metadata": {},
   "outputs": [],
   "source": [
    "cv2.imshow('img',yellow)\n",
    "cv2.waitKey(0)\n",
    "cv2.destroyAllWindows()"
   ]
  },
  {
   "cell_type": "code",
   "execution_count": 48,
   "id": "8d1a373c",
   "metadata": {},
   "outputs": [],
   "source": [
    "img_contours = cv2.drawContours(img, cnts_y, -1, (100,100,100), 2)"
   ]
  },
  {
   "cell_type": "code",
   "execution_count": 32,
   "id": "719917d5",
   "metadata": {},
   "outputs": [
    {
     "data": {
      "text/plain": [
       "72"
      ]
     },
     "execution_count": 32,
     "metadata": {},
     "output_type": "execute_result"
    }
   ],
   "source": [
    "len(cnts_y)"
   ]
  },
  {
   "cell_type": "code",
   "execution_count": 49,
   "id": "f6dd99bc",
   "metadata": {},
   "outputs": [],
   "source": []
  },
  {
   "cell_type": "code",
   "execution_count": 50,
   "id": "7a7ce4a4",
   "metadata": {},
   "outputs": [],
   "source": [
    "cv2.imshow('img',green)\n",
    "cv2.waitKey(0)\n",
    "cv2.destroyAllWindows()"
   ]
  },
  {
   "cell_type": "code",
   "execution_count": null,
   "id": "f45ffef9",
   "metadata": {},
   "outputs": [],
   "source": []
  }
 ],
 "metadata": {
  "kernelspec": {
   "display_name": "Python 3 (ipykernel)",
   "language": "python",
   "name": "python3"
  },
  "language_info": {
   "codemirror_mode": {
    "name": "ipython",
    "version": 3
   },
   "file_extension": ".py",
   "mimetype": "text/x-python",
   "name": "python",
   "nbconvert_exporter": "python",
   "pygments_lexer": "ipython3",
   "version": "3.8.8"
  }
 },
 "nbformat": 4,
 "nbformat_minor": 5
}
