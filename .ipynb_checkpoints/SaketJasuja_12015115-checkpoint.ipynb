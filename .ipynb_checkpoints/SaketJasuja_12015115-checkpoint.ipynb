{
 "cells": [
  {
   "cell_type": "code",
   "execution_count": 3,
   "id": "e4847de7",
   "metadata": {},
   "outputs": [],
   "source": [
    "import cv2\n",
    "import numpy as np"
   ]
  },
  {
   "cell_type": "code",
   "execution_count": 4,
   "id": "b4e31363",
   "metadata": {},
   "outputs": [],
   "source": [
    "def traffic_signal(img):\n",
    "\n",
    "    #img = cv2.imread('test2.jpeg')\n",
    "    blue_box = cv2.inRange(img,np.array([254,0,0]),np.array([255,0,0]))\n",
    "    contours,heirarchy = cv2.findContours(blue_box, cv2.RETR_TREE, cv2.CHAIN_APPROX_SIMPLE)\n",
    "    max_contour = max(contours,key = cv2.contourArea)\n",
    "\n",
    "    for cnt in [max_contour]:\n",
    "        approx = cv2.approxPolyDP(cnt, 0.009 * cv2.arcLength(cnt, True), True)\n",
    "        n = approx.ravel() \n",
    "        i = 0\n",
    "        x_bluebox = []\n",
    "        y_bluebox = []\n",
    "        for j in n :\n",
    "            if(i % 2 == 0):\n",
    "                x_bluebox.append(n[i])\n",
    "                y_bluebox.append(n[i + 1])\n",
    "            i = i + 1\n",
    "\n",
    "    min_x , max_x = min(x_bluebox) , max(x_bluebox)\n",
    "    min_y , max_y = min(y_bluebox) , max(y_bluebox)\n",
    "\n",
    "    red = cv2.inRange(img , np.array([0,0,100]) , np.array([50,50,255]))\n",
    "    cnts_r,_ = cv2.findContours(red,cv2.RETR_TREE,cv2.CHAIN_APPROX_SIMPLE)\n",
    "    in_box_r = []\n",
    "    for i in cnts_r:\n",
    "        M = cv2.moments(i)\n",
    "        if M['m00'] != 0:\n",
    "            cx = int(M['m10']/M['m00'])\n",
    "            cy = int(M['m01']/M['m00'])\n",
    "            if cx>min_x and cx<max_x:\n",
    "                if cy>min_y and cy<max_y:\n",
    "                    in_box_r.append(i)\n",
    "\n",
    "    yellow = cv2.inRange(img , np.array([0,230,230]) , np.array([110,255,255]))\n",
    "    cnts_y,_ = cv2.findContours(yellow,cv2.RETR_TREE,cv2.CHAIN_APPROX_SIMPLE)\n",
    "    in_box_y = []\n",
    "    for i in cnts_y:\n",
    "        M = cv2.moments(i)\n",
    "        if M['m00'] != 0:\n",
    "            cx = int(M['m10']/M['m00'])\n",
    "            cy = int(M['m01']/M['m00'])\n",
    "            if cx>min_x and cx<max_x:\n",
    "                if cy>min_y and cy<max_y:\n",
    "                    in_box_y.append(i)\n",
    "\n",
    "    green = cv2.inRange(img , np.array([0,200,0]) , np.array([100,255,100]))\n",
    "    cnts_g,_ = cv2.findContours(green,cv2.RETR_TREE,cv2.CHAIN_APPROX_SIMPLE)\n",
    "    in_box_g = []\n",
    "    for i in cnts_g:\n",
    "        M = cv2.moments(i)\n",
    "        if M['m00'] != 0:\n",
    "            cx = int(M['m10']/M['m00'])\n",
    "            cy = int(M['m01']/M['m00'])\n",
    "            if cx>min_x and cx<max_x:\n",
    "                if cx>min_y and cy<max_y:\n",
    "                    in_box_g.append(i)\n",
    "\n",
    "    if len(in_box_r)==1 and len(in_box_y)==0 and len(in_box_g)==0:\n",
    "        print(\"RED\")\n",
    "    elif len(in_box_r)==0 and len(in_box_y)==1 and len(in_box_g)==0:\n",
    "        print(\"YELLOW\")\n",
    "    elif len(in_box_r)==0 and len(in_box_y)==0 and len(in_box_g)==1:\n",
    "        print(\"GREEN\")\n",
    "    else:\n",
    "        print(\"ERROR\")"
   ]
  },
  {
   "cell_type": "code",
   "execution_count": 11,
   "id": "7a8dc3b1",
   "metadata": {},
   "outputs": [
    {
     "name": "stdout",
     "output_type": "stream",
     "text": [
      "RED\n"
     ]
    }
   ],
   "source": [
    "img = cv2.imread('test2.jpeg')\n",
    "traffic_signal(img)"
   ]
  },
  {
   "cell_type": "code",
   "execution_count": null,
   "id": "03aa008b",
   "metadata": {},
   "outputs": [],
   "source": []
  }
 ],
 "metadata": {
  "kernelspec": {
   "display_name": "Python 3 (ipykernel)",
   "language": "python",
   "name": "python3"
  },
  "language_info": {
   "codemirror_mode": {
    "name": "ipython",
    "version": 3
   },
   "file_extension": ".py",
   "mimetype": "text/x-python",
   "name": "python",
   "nbconvert_exporter": "python",
   "pygments_lexer": "ipython3",
   "version": "3.8.8"
  }
 },
 "nbformat": 4,
 "nbformat_minor": 5
}
